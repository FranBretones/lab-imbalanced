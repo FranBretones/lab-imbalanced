{
 "cells": [
  {
   "cell_type": "markdown",
   "metadata": {},
   "source": [
    "# LAB | Imbalanced"
   ]
  },
  {
   "cell_type": "markdown",
   "metadata": {},
   "source": [
    "**Load the data**\n",
    "\n",
    "In this challenge, we will be working with Credit Card Fraud dataset.\n",
    "\n",
    "https://raw.githubusercontent.com/data-bootcamp-v4/data/main/card_transdata.csv\n",
    "\n",
    "Metadata\n",
    "\n",
    "- **distance_from_home:** the distance from home where the transaction happened.\n",
    "- **distance_from_last_transaction:** the distance from last transaction happened.\n",
    "- **ratio_to_median_purchase_price:** Ratio of purchased price transaction to median purchase price.\n",
    "- **repeat_retailer:** Is the transaction happened from same retailer.\n",
    "- **used_chip:** Is the transaction through chip (credit card).\n",
    "- **used_pin_number:** Is the transaction happened by using PIN number.\n",
    "- **online_order:** Is the transaction an online order.\n",
    "- **fraud:** Is the transaction fraudulent. **0=legit** -  **1=fraud**\n"
   ]
  },
  {
   "cell_type": "code",
   "execution_count": 6,
   "metadata": {},
   "outputs": [],
   "source": [
    "#Libraries\n",
    "import pandas as pd\n",
    "import numpy as np\n",
    "import matplotlib.pyplot as plt\n",
    "import seaborn as sns\n",
    "from sklearn.model_selection import train_test_split"
   ]
  },
  {
   "cell_type": "code",
   "execution_count": 2,
   "metadata": {},
   "outputs": [
    {
     "data": {
      "text/html": [
       "<div>\n",
       "<style scoped>\n",
       "    .dataframe tbody tr th:only-of-type {\n",
       "        vertical-align: middle;\n",
       "    }\n",
       "\n",
       "    .dataframe tbody tr th {\n",
       "        vertical-align: top;\n",
       "    }\n",
       "\n",
       "    .dataframe thead th {\n",
       "        text-align: right;\n",
       "    }\n",
       "</style>\n",
       "<table border=\"1\" class=\"dataframe\">\n",
       "  <thead>\n",
       "    <tr style=\"text-align: right;\">\n",
       "      <th></th>\n",
       "      <th>distance_from_home</th>\n",
       "      <th>distance_from_last_transaction</th>\n",
       "      <th>ratio_to_median_purchase_price</th>\n",
       "      <th>repeat_retailer</th>\n",
       "      <th>used_chip</th>\n",
       "      <th>used_pin_number</th>\n",
       "      <th>online_order</th>\n",
       "      <th>fraud</th>\n",
       "    </tr>\n",
       "  </thead>\n",
       "  <tbody>\n",
       "    <tr>\n",
       "      <th>0</th>\n",
       "      <td>57.877857</td>\n",
       "      <td>0.311140</td>\n",
       "      <td>1.945940</td>\n",
       "      <td>1.0</td>\n",
       "      <td>1.0</td>\n",
       "      <td>0.0</td>\n",
       "      <td>0.0</td>\n",
       "      <td>0.0</td>\n",
       "    </tr>\n",
       "    <tr>\n",
       "      <th>1</th>\n",
       "      <td>10.829943</td>\n",
       "      <td>0.175592</td>\n",
       "      <td>1.294219</td>\n",
       "      <td>1.0</td>\n",
       "      <td>0.0</td>\n",
       "      <td>0.0</td>\n",
       "      <td>0.0</td>\n",
       "      <td>0.0</td>\n",
       "    </tr>\n",
       "    <tr>\n",
       "      <th>2</th>\n",
       "      <td>5.091079</td>\n",
       "      <td>0.805153</td>\n",
       "      <td>0.427715</td>\n",
       "      <td>1.0</td>\n",
       "      <td>0.0</td>\n",
       "      <td>0.0</td>\n",
       "      <td>1.0</td>\n",
       "      <td>0.0</td>\n",
       "    </tr>\n",
       "    <tr>\n",
       "      <th>3</th>\n",
       "      <td>2.247564</td>\n",
       "      <td>5.600044</td>\n",
       "      <td>0.362663</td>\n",
       "      <td>1.0</td>\n",
       "      <td>1.0</td>\n",
       "      <td>0.0</td>\n",
       "      <td>1.0</td>\n",
       "      <td>0.0</td>\n",
       "    </tr>\n",
       "    <tr>\n",
       "      <th>4</th>\n",
       "      <td>44.190936</td>\n",
       "      <td>0.566486</td>\n",
       "      <td>2.222767</td>\n",
       "      <td>1.0</td>\n",
       "      <td>1.0</td>\n",
       "      <td>0.0</td>\n",
       "      <td>1.0</td>\n",
       "      <td>0.0</td>\n",
       "    </tr>\n",
       "  </tbody>\n",
       "</table>\n",
       "</div>"
      ],
      "text/plain": [
       "   distance_from_home  distance_from_last_transaction  \\\n",
       "0           57.877857                        0.311140   \n",
       "1           10.829943                        0.175592   \n",
       "2            5.091079                        0.805153   \n",
       "3            2.247564                        5.600044   \n",
       "4           44.190936                        0.566486   \n",
       "\n",
       "   ratio_to_median_purchase_price  repeat_retailer  used_chip  \\\n",
       "0                        1.945940              1.0        1.0   \n",
       "1                        1.294219              1.0        0.0   \n",
       "2                        0.427715              1.0        0.0   \n",
       "3                        0.362663              1.0        1.0   \n",
       "4                        2.222767              1.0        1.0   \n",
       "\n",
       "   used_pin_number  online_order  fraud  \n",
       "0              0.0           0.0    0.0  \n",
       "1              0.0           0.0    0.0  \n",
       "2              0.0           1.0    0.0  \n",
       "3              0.0           1.0    0.0  \n",
       "4              0.0           1.0    0.0  "
      ]
     },
     "execution_count": 2,
     "metadata": {},
     "output_type": "execute_result"
    }
   ],
   "source": [
    "fraud = pd.read_csv(\"https://raw.githubusercontent.com/data-bootcamp-v4/data/main/card_transdata.csv\")\n",
    "fraud.head()"
   ]
  },
  {
   "cell_type": "code",
   "execution_count": 5,
   "metadata": {},
   "outputs": [
    {
     "name": "stdout",
     "output_type": "stream",
     "text": [
      "<class 'pandas.core.frame.DataFrame'>\n",
      "RangeIndex: 1000000 entries, 0 to 999999\n",
      "Data columns (total 8 columns):\n",
      " #   Column                          Non-Null Count    Dtype  \n",
      "---  ------                          --------------    -----  \n",
      " 0   distance_from_home              1000000 non-null  float64\n",
      " 1   distance_from_last_transaction  1000000 non-null  float64\n",
      " 2   ratio_to_median_purchase_price  1000000 non-null  float64\n",
      " 3   repeat_retailer                 1000000 non-null  float64\n",
      " 4   used_chip                       1000000 non-null  float64\n",
      " 5   used_pin_number                 1000000 non-null  float64\n",
      " 6   online_order                    1000000 non-null  float64\n",
      " 7   fraud                           1000000 non-null  float64\n",
      "dtypes: float64(8)\n",
      "memory usage: 61.0 MB\n"
     ]
    }
   ],
   "source": [
    "#cheking the data types\n",
    "fraud.info()"
   ]
  },
  {
   "cell_type": "markdown",
   "metadata": {},
   "source": [
    "no null values."
   ]
  },
  {
   "cell_type": "markdown",
   "metadata": {},
   "source": [
    "**Steps:**"
   ]
  },
  {
   "cell_type": "markdown",
   "metadata": {},
   "source": [
    "- **1.** What is the distribution of our target variable? Can we say we're dealing with an imbalanced dataset?\n",
    "- **2.** Train a LogisticRegression.\n",
    "- **3.** Evaluate your model. Take in consideration class importance, and evaluate it by selection the correct metric.\n",
    "- **4.** Run **Oversample** in order to balance our target variable and repeat the steps above, now with balanced data. Does it improve the performance of our model? \n",
    "- **5.** Now, run **Undersample** in order to balance our target variable and repeat the steps above (1-3), now with balanced data. Does it improve the performance of our model?\n",
    "- **6.** Finally, run **SMOTE** in order to balance our target variable and repeat the steps above (1-3), now with balanced data. Does it improve the performance of our model? "
   ]
  },
  {
   "cell_type": "code",
   "execution_count": null,
   "metadata": {},
   "outputs": [
    {
     "data": {
      "image/png": "[encoded data removed]",
      "text/plain": [
       "<Figure size 640x480 with 1 Axes>"
      ]
     },
     "metadata": {},
     "output_type": "display_data"
    }
   ],
   "source": [
    "# 1.Distribution of the target variable\n",
    "fraud['fraud'].value_counts().plot(kind='bar',title='Distribution of the target variable')\n",
    "plt.xlabel('Class (0 = Legit, 1 = Fraud)')\n",
    "plt.ylabel('Count')\n",
    "plt.xticks(rotation=0)\n",
    "plt.grid(axis='y')\n",
    "plt.show()"
   ]
  },
  {
   "cell_type": "markdown",
   "metadata": {},
   "source": [
    "Yes, our data set is imbalanced "
   ]
  },
  {
   "cell_type": "code",
   "execution_count": 12,
   "metadata": {},
   "outputs": [
    {
     "name": "stdout",
     "output_type": "stream",
     "text": [
      "Confusion Matrix;\n",
      "[[170350  12207]\n",
      " [   849  16594]]\n",
      "---------------\n",
      "Classification Report;\n",
      "              precision    recall  f1-score   support\n",
      "\n",
      "         0.0     0.9950    0.9331    0.9631    182557\n",
      "         1.0     0.5762    0.9513    0.7177     17443\n",
      "\n",
      "    accuracy                         0.9347    200000\n",
      "   macro avg     0.7856    0.9422    0.8404    200000\n",
      "weighted avg     0.9585    0.9347    0.9417    200000\n",
      "\n"
     ]
    }
   ],
   "source": [
    "#2.Train a logistic regression model and 3.evaluate its performance\n",
    "from sklearn.linear_model import LogisticRegression\n",
    "from sklearn.metrics import classification_report, confusion_matrix\n",
    "\n",
    "features = fraud.drop('fraud', axis=1)\n",
    "target = fraud['fraud']\n",
    "\n",
    "X_train, X_test, y_train, y_test = train_test_split(\n",
    "                                        features, target, \n",
    "                                        test_size=0.2, \n",
    "                                        random_state=42)\n",
    "\n",
    "model = LogisticRegression(\n",
    "            max_iter = 1000, \n",
    "            class_weight = 'balanced',\n",
    "            random_state=42)\n",
    "\n",
    "model.fit(X_train, y_train)\n",
    "model.predict(X_test)\n",
    "print('Confusion Matrix;')\n",
    "print(confusion_matrix(y_test, model.predict(X_test)))\n",
    "\n",
    "print('---------------')\n",
    "\n",
    "print('Classification Report;')\n",
    "print(classification_report(y_test, model.predict(X_test),digits=4))\n"
   ]
  },
  {
   "cell_type": "code",
   "execution_count": 15,
   "metadata": {},
   "outputs": [
    {
     "name": "stdout",
     "output_type": "stream",
     "text": [
      "Before oversampling: fraud\n",
      "0.0    730040\n",
      "1.0     69960\n",
      "Name: count, dtype: int64\n",
      "After oversampling: fraud\n",
      "0.0    730040\n",
      "1.0    730040\n",
      "Name: count, dtype: int64\n",
      "Confusion Matrix after oversampling:\n",
      "[[170345  12212]\n",
      " [   852  16591]]\n",
      "---------------\n",
      "Classification Report after oversampling:\n",
      "              precision    recall  f1-score   support\n",
      "\n",
      "         0.0     0.9950    0.9331    0.9631    182557\n",
      "         1.0     0.5760    0.9512    0.7175     17443\n",
      "\n",
      "    accuracy                         0.9347    200000\n",
      "   macro avg     0.7855    0.9421    0.8403    200000\n",
      "weighted avg     0.9585    0.9347    0.9417    200000\n",
      "\n"
     ]
    }
   ],
   "source": [
    "#4.Run oversampling techniques. \n",
    "from imblearn.over_sampling import RandomOverSampler, SMOTE\n",
    "\n",
    "ros = RandomOverSampler(random_state=42)\n",
    "X_train_over, y_train_over = ros.fit_resample(X_train,y_train)\n",
    "\n",
    "#Checking the distribution of the target variable after oversampling\n",
    "print('Before oversampling:',y_train.value_counts())\n",
    "print('After oversampling:',y_train_over.value_counts())\n",
    "\n",
    "#Train a logistic regression model with the resampled data \n",
    "model_oversampled = LogisticRegression(\n",
    "            max_iter = 1000,\n",
    "            random_state=42\n",
    "            )\n",
    "\n",
    "model_oversampled.fit(X_train_over,y_train_over)\n",
    "y_pred_over = model_oversampled.predict(X_test)\n",
    "\n",
    "print('Confusion Matrix after oversampling:')\n",
    "print(confusion_matrix(y_test, y_pred_over))\n",
    "print('---------------')\n",
    "print('Classification Report after oversampling:')\n",
    "print(classification_report(y_test, y_pred_over, digits=4))\n"
   ]
  },
  {
   "cell_type": "code",
   "execution_count": 16,
   "metadata": {},
   "outputs": [
    {
     "name": "stdout",
     "output_type": "stream",
     "text": [
      "Before undersampling: fraud\n",
      "0.0    730040\n",
      "1.0     69960\n",
      "Name: count, dtype: int64\n",
      "After undersampling: fraud\n",
      "0.0    69960\n",
      "1.0    69960\n",
      "Name: count, dtype: int64\n",
      "Confusion Matrix after undersampling:\n",
      "[[170299  12258]\n",
      " [   841  16602]]\n",
      "---------------\n",
      "Classification Report after undersampling:\n",
      "              precision    recall  f1-score   support\n",
      "\n",
      "         0.0     0.9951    0.9329    0.9630    182557\n",
      "         1.0     0.5753    0.9518    0.7171     17443\n",
      "\n",
      "    accuracy                         0.9345    200000\n",
      "   macro avg     0.7852    0.9423    0.8400    200000\n",
      "weighted avg     0.9585    0.9345    0.9415    200000\n",
      "\n"
     ]
    }
   ],
   "source": [
    "#5 Run undersampling techniques. \n",
    "\n",
    "from imblearn.under_sampling import RandomUnderSampler\n",
    "\n",
    "rus = RandomUnderSampler(random_state=42)\n",
    "X_train_under, y_train_under = rus.fit_resample(X_train, y_train)\n",
    "\n",
    "print('Before undersampling:', y_train.value_counts())\n",
    "print('After undersampling:', y_train_under.value_counts())\n",
    "\n",
    "#Train a logistic regression model with the resampled data\n",
    "model_undersampled = LogisticRegression(\n",
    "            max_iter = 1000,\n",
    "            random_state=42\n",
    "            )\n",
    "\n",
    "model_undersampled.fit(X_train_under, y_train_under)\n",
    "y_pred_under = model_undersampled.predict(X_test)\n",
    "print('Confusion Matrix after undersampling:')\n",
    "print(confusion_matrix(y_test, y_pred_under))\n",
    "print('---------------')\n",
    "print('Classification Report after undersampling:')\n",
    "print(classification_report(y_test, y_pred_under, digits=4))\n"
   ]
  },
  {
   "cell_type": "code",
   "execution_count": null,
   "metadata": {},
   "outputs": [
    {
     "name": "stdout",
     "output_type": "stream",
     "text": [
      "Before SMOTE: fraud\n",
      "0.0    730040\n",
      "1.0     69960\n",
      "Name: count, dtype: int64\n",
      "After SMOTE: fraud\n",
      "0.0    730040\n",
      "1.0    730040\n",
      "Name: count, dtype: int64\n"
     ]
    }
   ],
   "source": [
    "#6 run smote technique\n",
    "from imblearn.over_sampling import SMOTE\n",
    "smote = SMOTE(random_state=42)\n",
    "X_train_smote, y_train_smote = smote.fit_resample(X_train, y_train)\n",
    "print('Before SMOTE:', y_train.value_counts())\n",
    "print('After SMOTE:', y_train_smote.value_counts())\n"
   ]
  },
  {
   "cell_type": "code",
   "execution_count": 18,
   "metadata": {},
   "outputs": [
    {
     "name": "stdout",
     "output_type": "stream",
     "text": [
      "Confusion Matrix (SMOTE):\n",
      "[[170446  12111]\n",
      " [   872  16571]]\n",
      "\n",
      "Classification Report (SMOTE):\n",
      "              precision    recall  f1-score   support\n",
      "\n",
      "         0.0     0.9949    0.9337    0.9633    182557\n",
      "         1.0     0.5777    0.9500    0.7185     17443\n",
      "\n",
      "    accuracy                         0.9351    200000\n",
      "   macro avg     0.7863    0.9418    0.8409    200000\n",
      "weighted avg     0.9585    0.9351    0.9420    200000\n",
      "\n"
     ]
    }
   ],
   "source": [
    "lr_smote = LogisticRegression(max_iter=1000, random_state=42)\n",
    "lr_smote.fit(X_train_smote, y_train_smote)\n",
    "y_pred_smote = lr_smote.predict(X_test)\n",
    "print(\"Confusion Matrix (SMOTE):\")\n",
    "print(confusion_matrix(y_test, y_pred_smote))\n",
    "print(\"\\nClassification Report (SMOTE):\")\n",
    "print(classification_report(y_test, y_pred_smote, digits=4))\n",
    "\n"
   ]
  },
  {
   "cell_type": "code",
   "execution_count": 20,
   "metadata": {},
   "outputs": [
    {
     "name": "stdout",
     "output_type": "stream",
     "text": [
      "                 Model  Precision    Recall  F1-Score\n",
      "3                SMOTE   0.577749  0.950009  0.718526\n",
      "0  Original (weighted)   0.576161  0.951327  0.717671\n",
      "1          Oversampled   0.576016  0.951155  0.717511\n",
      "2         Undersampled   0.575260  0.951786  0.717103\n"
     ]
    }
   ],
   "source": [
    "#Compare the results of the three techniques\n",
    "import pandas as pd\n",
    "from sklearn.metrics import precision_score, recall_score, f1_score\n",
    "\n",
    "def get_metrics(name, y_true, y_pred):\n",
    "    return {\n",
    "        'Model': name,\n",
    "        'Precision': precision_score(y_true, y_pred),\n",
    "        'Recall': recall_score(y_true, y_pred),\n",
    "        'F1-Score': f1_score(y_true, y_pred)\n",
    "    }\n",
    "\n",
    "results = []\n",
    "\n",
    "# Modelo original\n",
    "y_pred_original = model.predict(X_test)\n",
    "results.append(get_metrics('Original (weighted)', y_test, y_pred_original))\n",
    "\n",
    "# Oversampled\n",
    "results.append(get_metrics('Oversampled', y_test, y_pred_over))\n",
    "\n",
    "# Undersampled\n",
    "results.append(get_metrics('Undersampled', y_test, y_pred_under))\n",
    "\n",
    "# SMOTE\n",
    "results.append(get_metrics('SMOTE', y_test, y_pred_smote))\n",
    "\n",
    "# Crear dataframe de comparación\n",
    "comparison_df = pd.DataFrame(results)\n",
    "print(comparison_df.sort_values(by='F1-Score', ascending=False))\n"
   ]
  },
  {
   "cell_type": "code",
   "execution_count": null,
   "metadata": {},
   "outputs": [
    {
     "data": {
      "image/png": "[encoded data removed]",
      "text/plain": [
       "<Figure size 1000x600 with 1 Axes>"
      ]
     },
     "metadata": {},
     "output_type": "display_data"
    }
   ],
   "source": []
  },
  {
   "cell_type": "markdown",
   "metadata": {},
   "source": [
    "Tras comparar cuatro enfoques de entrenamiento en un problema de clasificación binaria con datos desbalanceados, se observó que todas las técnicas (original con pesos, oversampling, undersampling y SMOTE) alcanzan métricas similares.\n",
    "\n",
    "La técnica SMOTE logró el mejor F1-score (0.7185), superando ligeramente al modelo original con pesos balanceados.\n",
    "\n",
    "Todas las configuraciones ofrecieron un recall superior al 95%, lo cual es fundamental en un contexto de fraude, donde minimizar los falsos negativos es prioritario.\n",
    "\n",
    "No obstante, el precision (~57%) indica que el modelo genera una cantidad considerable de falsos positivos, lo cual podría ser abordado en futuras iteraciones mediante:\n",
    "\n",
    "Modelos más complejos (árboles, XGBoost, etc.).\n",
    "\n",
    "Ingeniería de features.\n",
    "\n",
    "Umbral de decisión personalizado."
   ]
  }
 ],
 "metadata": {
  "kernelspec": {
   "display_name": "venv",
   "language": "python",
   "name": "python3"
  },
  "language_info": {
   "codemirror_mode": {
    "name": "ipython",
    "version": 3
   },
   "file_extension": ".py",
   "mimetype": "text/x-python",
   "name": "python",
   "nbconvert_exporter": "python",
   "pygments_lexer": "ipython3",
   "version": "3.12.1"
  }
 },
 "nbformat": 4,
 "nbformat_minor": 2
}
